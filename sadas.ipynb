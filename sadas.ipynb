{
 "cells": [
  {
   "cell_type": "code",
   "execution_count": 32,
   "metadata": {},
   "outputs": [
    {
     "name": "stdout",
     "output_type": "stream",
     "text": [
      "170\n"
     ]
    }
   ],
   "source": [
    "#exercise_calories = [{\"kegiatan\": berlari , \"kalori\": 10}, {\"kegiatan\": berenang, \"kalori\": 12},{\"kegiatan\": bersepeda, \"kalori\": 8}]\n",
    "def calories_burned(duration, exercise):\n",
    "  if exercise == \"berlari\":\n",
    "    calorie_burn = duration * 10\n",
    "    return calorie_burn\n",
    "  elif exercise == \"bersepeda\":\n",
    "    calorie_burn = duration * 8\n",
    "    return calorie_burn\n",
    "  elif exercise == \"berenang\":\n",
    "    calorie_burn = duration * 12\n",
    "    return calorie_burn\n",
    "  else: \n",
    "    print(\"Kegiatan tidak ditemukan\")\n",
    "\n",
    "def total_session_burned_cal(*args, hour):\n",
    "    a = 0\n",
    "    for i in args: \n",
    "        if i == \"berlari\": \n",
    "            a += (hour * 10)\n",
    "        elif i == \"bersepeda\" :\n",
    "            a += (hour*3)\n",
    "        elif i == \"berenang\":\n",
    "            a += (hour*4)\n",
    "    print(a)\n",
    "\n",
    "\n",
    "total_session_burned_cal(\"bersepeda\", \"berenang\", \"berlari\", hour = 10)"
   ]
  },
  {
   "cell_type": "code",
   "execution_count": null,
   "metadata": {},
   "outputs": [],
   "source": []
  }
 ],
 "metadata": {
  "kernelspec": {
   "display_name": "base",
   "language": "python",
   "name": "python3"
  },
  "language_info": {
   "codemirror_mode": {
    "name": "ipython",
    "version": 3
   },
   "file_extension": ".py",
   "mimetype": "text/x-python",
   "name": "python",
   "nbconvert_exporter": "python",
   "pygments_lexer": "ipython3",
   "version": "3.11.4"
  }
 },
 "nbformat": 4,
 "nbformat_minor": 2
}
